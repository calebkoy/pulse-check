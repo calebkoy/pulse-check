{
  "nbformat": 4,
  "nbformat_minor": 0,
  "metadata": {
    "colab": {
      "name": "process_sentiment140_data.ipynb",
      "provenance": [],
      "collapsed_sections": [],
      "toc_visible": true
    },
    "kernelspec": {
      "name": "python3",
      "display_name": "Python 3"
    }
  },
  "cells": [
    {
      "cell_type": "code",
      "metadata": {
        "id": "hM-Ge6OL77pz",
        "outputId": "dc9bf011-87ca-439f-e622-ebcd9f1dd7c4",
        "colab": {
          "base_uri": "https://localhost:8080/"
        }
      },
      "source": [
        "from google.colab import drive\n",
        "drive.mount('/content/drive')"
      ],
      "execution_count": 134,
      "outputs": [
        {
          "output_type": "stream",
          "text": [
            "Mounted at /content/drive\n"
          ],
          "name": "stdout"
        }
      ]
    },
    {
      "cell_type": "code",
      "metadata": {
        "id": "la3xyIav8je1"
      },
      "source": [
        "path = \"\""
      ],
      "execution_count": null,
      "outputs": []
    },
    {
      "cell_type": "code",
      "metadata": {
        "id": "et78k32oppNF"
      },
      "source": [
        "import pandas as pd"
      ],
      "execution_count": 1,
      "outputs": []
    },
    {
      "cell_type": "code",
      "metadata": {
        "id": "0L7Ap71FpzUH",
        "outputId": "6cf79f3a-687d-46a7-95db-d4353abb37d4",
        "colab": {
          "base_uri": "https://localhost:8080/",
          "height": 204
        }
      },
      "source": [
        "negative_tweets_df = pd.read_csv('training.1600000.processed.noemoticon.csv', \n",
        "                                 nrows=500,\n",
        "                                 header=None)\n",
        "negative_tweets_df.head()"
      ],
      "execution_count": 30,
      "outputs": [
        {
          "output_type": "execute_result",
          "data": {
            "text/html": [
              "<div>\n",
              "<style scoped>\n",
              "    .dataframe tbody tr th:only-of-type {\n",
              "        vertical-align: middle;\n",
              "    }\n",
              "\n",
              "    .dataframe tbody tr th {\n",
              "        vertical-align: top;\n",
              "    }\n",
              "\n",
              "    .dataframe thead th {\n",
              "        text-align: right;\n",
              "    }\n",
              "</style>\n",
              "<table border=\"1\" class=\"dataframe\">\n",
              "  <thead>\n",
              "    <tr style=\"text-align: right;\">\n",
              "      <th></th>\n",
              "      <th>0</th>\n",
              "      <th>1</th>\n",
              "      <th>2</th>\n",
              "      <th>3</th>\n",
              "      <th>4</th>\n",
              "      <th>5</th>\n",
              "    </tr>\n",
              "  </thead>\n",
              "  <tbody>\n",
              "    <tr>\n",
              "      <th>0</th>\n",
              "      <td>0</td>\n",
              "      <td>1467810369</td>\n",
              "      <td>Mon Apr 06 22:19:45 PDT 2009</td>\n",
              "      <td>NO_QUERY</td>\n",
              "      <td>_TheSpecialOne_</td>\n",
              "      <td>@switchfoot http://twitpic.com/2y1zl - Awww, t...</td>\n",
              "    </tr>\n",
              "    <tr>\n",
              "      <th>1</th>\n",
              "      <td>0</td>\n",
              "      <td>1467810672</td>\n",
              "      <td>Mon Apr 06 22:19:49 PDT 2009</td>\n",
              "      <td>NO_QUERY</td>\n",
              "      <td>scotthamilton</td>\n",
              "      <td>is upset that he can't update his Facebook by ...</td>\n",
              "    </tr>\n",
              "    <tr>\n",
              "      <th>2</th>\n",
              "      <td>0</td>\n",
              "      <td>1467810917</td>\n",
              "      <td>Mon Apr 06 22:19:53 PDT 2009</td>\n",
              "      <td>NO_QUERY</td>\n",
              "      <td>mattycus</td>\n",
              "      <td>@Kenichan I dived many times for the ball. Man...</td>\n",
              "    </tr>\n",
              "    <tr>\n",
              "      <th>3</th>\n",
              "      <td>0</td>\n",
              "      <td>1467811184</td>\n",
              "      <td>Mon Apr 06 22:19:57 PDT 2009</td>\n",
              "      <td>NO_QUERY</td>\n",
              "      <td>ElleCTF</td>\n",
              "      <td>my whole body feels itchy and like its on fire</td>\n",
              "    </tr>\n",
              "    <tr>\n",
              "      <th>4</th>\n",
              "      <td>0</td>\n",
              "      <td>1467811193</td>\n",
              "      <td>Mon Apr 06 22:19:57 PDT 2009</td>\n",
              "      <td>NO_QUERY</td>\n",
              "      <td>Karoli</td>\n",
              "      <td>@nationwideclass no, it's not behaving at all....</td>\n",
              "    </tr>\n",
              "  </tbody>\n",
              "</table>\n",
              "</div>"
            ],
            "text/plain": [
              "   0  ...                                                  5\n",
              "0  0  ...  @switchfoot http://twitpic.com/2y1zl - Awww, t...\n",
              "1  0  ...  is upset that he can't update his Facebook by ...\n",
              "2  0  ...  @Kenichan I dived many times for the ball. Man...\n",
              "3  0  ...    my whole body feels itchy and like its on fire \n",
              "4  0  ...  @nationwideclass no, it's not behaving at all....\n",
              "\n",
              "[5 rows x 6 columns]"
            ]
          },
          "metadata": {
            "tags": []
          },
          "execution_count": 30
        }
      ]
    },
    {
      "cell_type": "code",
      "metadata": {
        "id": "J4AHd19CyWe3",
        "outputId": "3fc325cd-498f-41d0-c53c-b7072da393ec",
        "colab": {
          "base_uri": "https://localhost:8080/",
          "height": 204
        }
      },
      "source": [
        "positive_tweets_df = pd.read_csv('training.1600000.processed.noemoticon.csv', \n",
        "                                 skiprows=1599500, \n",
        "                                 nrows=500,\n",
        "                                 header=None)\n",
        "positive_tweets_df.head()"
      ],
      "execution_count": 43,
      "outputs": [
        {
          "output_type": "execute_result",
          "data": {
            "text/html": [
              "<div>\n",
              "<style scoped>\n",
              "    .dataframe tbody tr th:only-of-type {\n",
              "        vertical-align: middle;\n",
              "    }\n",
              "\n",
              "    .dataframe tbody tr th {\n",
              "        vertical-align: top;\n",
              "    }\n",
              "\n",
              "    .dataframe thead th {\n",
              "        text-align: right;\n",
              "    }\n",
              "</style>\n",
              "<table border=\"1\" class=\"dataframe\">\n",
              "  <thead>\n",
              "    <tr style=\"text-align: right;\">\n",
              "      <th></th>\n",
              "      <th>0</th>\n",
              "      <th>1</th>\n",
              "      <th>2</th>\n",
              "      <th>3</th>\n",
              "      <th>4</th>\n",
              "      <th>5</th>\n",
              "    </tr>\n",
              "  </thead>\n",
              "  <tbody>\n",
              "    <tr>\n",
              "      <th>0</th>\n",
              "      <td>4</td>\n",
              "      <td>2193453768</td>\n",
              "      <td>Tue Jun 16 08:28:49 PDT 2009</td>\n",
              "      <td>NO_QUERY</td>\n",
              "      <td>lyndiclark</td>\n",
              "      <td>Sitting in a meeting with my mom &amp;amp; grandmo...</td>\n",
              "    </tr>\n",
              "    <tr>\n",
              "      <th>1</th>\n",
              "      <td>4</td>\n",
              "      <td>2193453784</td>\n",
              "      <td>Tue Jun 16 08:28:49 PDT 2009</td>\n",
              "      <td>NO_QUERY</td>\n",
              "      <td>_cammi_</td>\n",
              "      <td>getting used to twitter</td>\n",
              "    </tr>\n",
              "    <tr>\n",
              "      <th>2</th>\n",
              "      <td>4</td>\n",
              "      <td>2193453791</td>\n",
              "      <td>Tue Jun 16 08:28:49 PDT 2009</td>\n",
              "      <td>NO_QUERY</td>\n",
              "      <td>nikibrown</td>\n",
              "      <td>@AwesomeRobot hackorz! thats teh illegalz! oh ...</td>\n",
              "    </tr>\n",
              "    <tr>\n",
              "      <th>3</th>\n",
              "      <td>4</td>\n",
              "      <td>2193453828</td>\n",
              "      <td>Tue Jun 16 08:28:49 PDT 2009</td>\n",
              "      <td>NO_QUERY</td>\n",
              "      <td>cocoletteng</td>\n",
              "      <td>@mervlai Wilde? A brilliant 19th century write...</td>\n",
              "    </tr>\n",
              "    <tr>\n",
              "      <th>4</th>\n",
              "      <td>4</td>\n",
              "      <td>2193453834</td>\n",
              "      <td>Tue Jun 16 08:28:49 PDT 2009</td>\n",
              "      <td>NO_QUERY</td>\n",
              "      <td>Codieeee</td>\n",
              "      <td>I Love @Pink She is AMAZIN..My favourite singe...</td>\n",
              "    </tr>\n",
              "  </tbody>\n",
              "</table>\n",
              "</div>"
            ],
            "text/plain": [
              "   0  ...                                                  5\n",
              "0  4  ...  Sitting in a meeting with my mom &amp; grandmo...\n",
              "1  4  ...                           getting used to twitter \n",
              "2  4  ...  @AwesomeRobot hackorz! thats teh illegalz! oh ...\n",
              "3  4  ...  @mervlai Wilde? A brilliant 19th century write...\n",
              "4  4  ...  I Love @Pink She is AMAZIN..My favourite singe...\n",
              "\n",
              "[5 rows x 6 columns]"
            ]
          },
          "metadata": {
            "tags": []
          },
          "execution_count": 43
        }
      ]
    },
    {
      "cell_type": "code",
      "metadata": {
        "id": "cvbRHLRIOEUI"
      },
      "source": [
        "import re\n",
        "\n",
        "def remove_urls(tweet):\n",
        "  return re.sub(r'www\\.\\S+|https?://\\S+', '', tweet)\n",
        "\n",
        "def remove_html_character_entities(tweet):\n",
        "  return re.sub(r'&[a-zA-Z]+;', '', tweet)\n",
        "\n",
        "def remove_at_mentions(tweet):\n",
        "  return re.sub(r'@\\S+', '', tweet)\n",
        "\n",
        "def remove_non_alpha_or_space_characters(tweet):        \n",
        "    return re.sub(r'[^a-zA-Z\\s]', '', tweet)\n",
        "\n",
        "def remove_short_words(tweet):\n",
        "  return re.sub(r'\\b\\w{1,2}\\b', '', tweet)\n",
        "\n",
        "def preprocess_tweet(tweet):\n",
        "  tweet = remove_urls(tweet)\n",
        "  tweet = remove_html_character_entities(tweet)\n",
        "  tweet = remove_at_mentions(tweet)\n",
        "  tweet = remove_non_alpha_or_space_characters(tweet)\n",
        "  return remove_short_words(tweet)"
      ],
      "execution_count": 46,
      "outputs": []
    },
    {
      "cell_type": "code",
      "metadata": {
        "id": "EnzdzKyQPud5",
        "outputId": "0d64aead-1c5a-41da-ae3f-51cf00058ba1",
        "colab": {
          "base_uri": "https://localhost:8080/"
        }
      },
      "source": [
        "positive_tweets = positive_tweets_df.iloc[:,-1]\n",
        "positive_tweets"
      ],
      "execution_count": 47,
      "outputs": [
        {
          "output_type": "execute_result",
          "data": {
            "text/plain": [
              "0      Sitting in a meeting with my mom &amp; grandmo...\n",
              "1                               getting used to twitter \n",
              "2      @AwesomeRobot hackorz! thats teh illegalz! oh ...\n",
              "3      @mervlai Wilde? A brilliant 19th century write...\n",
              "4      I Love @Pink She is AMAZIN..My favourite singe...\n",
              "                             ...                        \n",
              "495    Just woke up. Having no school is the best fee...\n",
              "496    TheWDB.com - Very cool to hear old Walt interv...\n",
              "497    Are you ready for your MoJo Makeover? Ask me f...\n",
              "498    Happy 38th Birthday to my boo of alll time!!! ...\n",
              "499    happy #charitytuesday @theNSPCC @SparksCharity...\n",
              "Name: 5, Length: 500, dtype: object"
            ]
          },
          "metadata": {
            "tags": []
          },
          "execution_count": 47
        }
      ]
    },
    {
      "cell_type": "code",
      "metadata": {
        "id": "QMGF6ObbP-8G",
        "outputId": "da7bc7c7-1863-45ea-d8f3-10a343d97495",
        "colab": {
          "base_uri": "https://localhost:8080/"
        }
      },
      "source": [
        "positive_tweets = positive_tweets.apply(preprocess_tweet)\n",
        "positive_tweets"
      ],
      "execution_count": 48,
      "outputs": [
        {
          "output_type": "execute_result",
          "data": {
            "text/plain": [
              "0      Sitting   meeting with  mom  grandmother regua...\n",
              "1                                 getting used  twitter \n",
              "2           hackorz thats teh illegalz  noes  howd you  \n",
              "3       Wilde  brilliant  century writerpoet Harpers ...\n",
              "4       Love  She  AMAZINMy favourite singerI Only ju...\n",
              "                             ...                        \n",
              "495    Just woke  Having  school  the best feeling ever \n",
              "496    TheWDBcom  Very cool  hear old Walt interviews   \n",
              "497    Are you ready for your MoJo Makeover Ask  for ...\n",
              "498    Happy  Birthday   boo  alll time Tupac Amaru S...\n",
              "499                             happy charitytuesday    \n",
              "Name: 5, Length: 500, dtype: object"
            ]
          },
          "metadata": {
            "tags": []
          },
          "execution_count": 48
        }
      ]
    },
    {
      "cell_type": "code",
      "metadata": {
        "id": "fNpfmHj7SikV",
        "outputId": "f1fa4f46-149a-4873-b721-47c0803f9345",
        "colab": {
          "base_uri": "https://localhost:8080/"
        }
      },
      "source": [
        "negative_tweets = negative_tweets_df.iloc[:,-1]\n",
        "negative_tweets"
      ],
      "execution_count": 49,
      "outputs": [
        {
          "output_type": "execute_result",
          "data": {
            "text/plain": [
              "0      @switchfoot http://twitpic.com/2y1zl - Awww, t...\n",
              "1      is upset that he can't update his Facebook by ...\n",
              "2      @Kenichan I dived many times for the ball. Man...\n",
              "3        my whole body feels itchy and like its on fire \n",
              "4      @nationwideclass no, it's not behaving at all....\n",
              "                             ...                        \n",
              "495                      @Brodhe geez ur no fun are you \n",
              "496                I wanna be in a punk rock band again \n",
              "497    @jyesmith That's a lot of angst for a Tuesday ...\n",
              "498    I'm very glad Britney isn't crazy anymore! Tha...\n",
              "499        has a huuuge headache! omg I feel like crap! \n",
              "Name: 5, Length: 500, dtype: object"
            ]
          },
          "metadata": {
            "tags": []
          },
          "execution_count": 49
        }
      ]
    },
    {
      "cell_type": "code",
      "metadata": {
        "id": "X695_pTjTaI2",
        "outputId": "6b3cd44a-7871-4216-c081-d915fd5749d5",
        "colab": {
          "base_uri": "https://localhost:8080/"
        }
      },
      "source": [
        "negative_tweets = negative_tweets.apply(preprocess_tweet)\n",
        "negative_tweets"
      ],
      "execution_count": 50,
      "outputs": [
        {
          "output_type": "execute_result",
          "data": {
            "text/plain": [
              "0         Awww thats  bummer  You shoulda got David C...\n",
              "1       upset that  cant update his Facebook  texting...\n",
              "2        dived many times for the ball Managed  save ...\n",
              "3             whole body feels itchy and like its  fire \n",
              "4        its not behaving  all  mad why   here becaus...\n",
              "                             ...                        \n",
              "495                                  geez   fun are you \n",
              "496                       wanna    punk rock band again \n",
              "497            Thats  lot  angst for  Tuesday afternoon \n",
              "498     very glad Britney isnt crazy anymore That was...\n",
              "499            has  huuuge headache omg  feel like crap \n",
              "Name: 5, Length: 500, dtype: object"
            ]
          },
          "metadata": {
            "tags": []
          },
          "execution_count": 50
        }
      ]
    },
    {
      "cell_type": "code",
      "metadata": {
        "id": "fD-ajgS_gLq-"
      },
      "source": [
        "all_training_tweets = pd.concat([negative_tweets, positive_tweets], ignore_index=True)\n",
        "all_training_tweets_df = pd.DataFrame(all_training_tweets)"
      ],
      "execution_count": 82,
      "outputs": []
    },
    {
      "cell_type": "code",
      "metadata": {
        "id": "zOsneqm8ihIR",
        "outputId": "b5449ff4-1519-4e7f-e743-2b25eec12541",
        "colab": {
          "base_uri": "https://localhost:8080/"
        }
      },
      "source": [
        "neg_labels = pd.Series([0]).repeat(500)\n",
        "pos_labels = pd.Series([4]).repeat(500)\n",
        "all_training_labels = pd.concat([neg_labels, pos_labels], ignore_index=True)\n",
        "all_training_labels"
      ],
      "execution_count": 85,
      "outputs": [
        {
          "output_type": "execute_result",
          "data": {
            "text/plain": [
              "0      0\n",
              "1      0\n",
              "2      0\n",
              "3      0\n",
              "4      0\n",
              "      ..\n",
              "995    4\n",
              "996    4\n",
              "997    4\n",
              "998    4\n",
              "999    4\n",
              "Length: 1000, dtype: int64"
            ]
          },
          "metadata": {
            "tags": []
          },
          "execution_count": 85
        }
      ]
    },
    {
      "cell_type": "code",
      "metadata": {
        "id": "9wDuB3YqjoZK",
        "outputId": "c181e816-dcb1-4abd-d702-97c412917c19",
        "colab": {
          "base_uri": "https://localhost:8080/",
          "height": 204
        }
      },
      "source": [
        "all_training_tweets_df = all_training_tweets_df.assign(labels=all_training_labels)\n",
        "all_training_tweets_df.tail()"
      ],
      "execution_count": 86,
      "outputs": [
        {
          "output_type": "execute_result",
          "data": {
            "text/html": [
              "<div>\n",
              "<style scoped>\n",
              "    .dataframe tbody tr th:only-of-type {\n",
              "        vertical-align: middle;\n",
              "    }\n",
              "\n",
              "    .dataframe tbody tr th {\n",
              "        vertical-align: top;\n",
              "    }\n",
              "\n",
              "    .dataframe thead th {\n",
              "        text-align: right;\n",
              "    }\n",
              "</style>\n",
              "<table border=\"1\" class=\"dataframe\">\n",
              "  <thead>\n",
              "    <tr style=\"text-align: right;\">\n",
              "      <th></th>\n",
              "      <th>5</th>\n",
              "      <th>labels</th>\n",
              "    </tr>\n",
              "  </thead>\n",
              "  <tbody>\n",
              "    <tr>\n",
              "      <th>995</th>\n",
              "      <td>Just woke  Having  school  the best feeling ever</td>\n",
              "      <td>4</td>\n",
              "    </tr>\n",
              "    <tr>\n",
              "      <th>996</th>\n",
              "      <td>TheWDBcom  Very cool  hear old Walt interviews</td>\n",
              "      <td>4</td>\n",
              "    </tr>\n",
              "    <tr>\n",
              "      <th>997</th>\n",
              "      <td>Are you ready for your MoJo Makeover Ask  for ...</td>\n",
              "      <td>4</td>\n",
              "    </tr>\n",
              "    <tr>\n",
              "      <th>998</th>\n",
              "      <td>Happy  Birthday   boo  alll time Tupac Amaru S...</td>\n",
              "      <td>4</td>\n",
              "    </tr>\n",
              "    <tr>\n",
              "      <th>999</th>\n",
              "      <td>happy charitytuesday</td>\n",
              "      <td>4</td>\n",
              "    </tr>\n",
              "  </tbody>\n",
              "</table>\n",
              "</div>"
            ],
            "text/plain": [
              "                                                     5  labels\n",
              "995  Just woke  Having  school  the best feeling ever        4\n",
              "996  TheWDBcom  Very cool  hear old Walt interviews          4\n",
              "997  Are you ready for your MoJo Makeover Ask  for ...       4\n",
              "998  Happy  Birthday   boo  alll time Tupac Amaru S...       4\n",
              "999                           happy charitytuesday           4"
            ]
          },
          "metadata": {
            "tags": []
          },
          "execution_count": 86
        }
      ]
    },
    {
      "cell_type": "code",
      "metadata": {
        "id": "Ait9I4FokORK"
      },
      "source": [
        "from sklearn.utils import shuffle\n",
        "\n",
        "all_training_tweets_df = shuffle(all_training_tweets_df)\n",
        "all_training_tweets_df.reset_index(inplace=True, drop=True)"
      ],
      "execution_count": 87,
      "outputs": []
    },
    {
      "cell_type": "code",
      "metadata": {
        "id": "wo_j_s8mmKm2",
        "outputId": "15186fe1-f05e-4b8a-bd90-f83ec4fb3f4e",
        "colab": {
          "base_uri": "https://localhost:8080/",
          "height": 204
        }
      },
      "source": [
        "all_training_tweets_df.head()"
      ],
      "execution_count": 88,
      "outputs": [
        {
          "output_type": "execute_result",
          "data": {
            "text/html": [
              "<div>\n",
              "<style scoped>\n",
              "    .dataframe tbody tr th:only-of-type {\n",
              "        vertical-align: middle;\n",
              "    }\n",
              "\n",
              "    .dataframe tbody tr th {\n",
              "        vertical-align: top;\n",
              "    }\n",
              "\n",
              "    .dataframe thead th {\n",
              "        text-align: right;\n",
              "    }\n",
              "</style>\n",
              "<table border=\"1\" class=\"dataframe\">\n",
              "  <thead>\n",
              "    <tr style=\"text-align: right;\">\n",
              "      <th></th>\n",
              "      <th>5</th>\n",
              "      <th>labels</th>\n",
              "    </tr>\n",
              "  </thead>\n",
              "  <tbody>\n",
              "    <tr>\n",
              "      <th>0</th>\n",
              "      <td>Waiting  the airport for  ride while  get hara...</td>\n",
              "      <td>0</td>\n",
              "    </tr>\n",
              "    <tr>\n",
              "      <th>1</th>\n",
              "      <td>theres this brilliant addon for firefox calle...</td>\n",
              "      <td>4</td>\n",
              "    </tr>\n",
              "    <tr>\n",
              "      <th>2</th>\n",
              "      <td>Grr  want  keep reading but     wont have anyt...</td>\n",
              "      <td>0</td>\n",
              "    </tr>\n",
              "    <tr>\n",
              "      <th>3</th>\n",
              "      <td>and  course  have access   Halo  Mythic Map Pa...</td>\n",
              "      <td>0</td>\n",
              "    </tr>\n",
              "    <tr>\n",
              "      <th>4</th>\n",
              "      <td>GAMINGGG  BUDDDYY  dllll  shoo  love you LOVEYOU</td>\n",
              "      <td>4</td>\n",
              "    </tr>\n",
              "  </tbody>\n",
              "</table>\n",
              "</div>"
            ],
            "text/plain": [
              "                                                   5  labels\n",
              "0  Waiting  the airport for  ride while  get hara...       0\n",
              "1   theres this brilliant addon for firefox calle...       4\n",
              "2  Grr  want  keep reading but     wont have anyt...       0\n",
              "3  and  course  have access   Halo  Mythic Map Pa...       0\n",
              "4   GAMINGGG  BUDDDYY  dllll  shoo  love you LOVEYOU       4"
            ]
          },
          "metadata": {
            "tags": []
          },
          "execution_count": 88
        }
      ]
    },
    {
      "cell_type": "code",
      "metadata": {
        "id": "-PueetDGmNYL",
        "outputId": "b52c224d-3be1-4caf-e729-4fce2ffc9af5",
        "colab": {
          "base_uri": "https://localhost:8080/",
          "height": 204
        }
      },
      "source": [
        "all_training_tweets_df.tail()"
      ],
      "execution_count": 89,
      "outputs": [
        {
          "output_type": "execute_result",
          "data": {
            "text/html": [
              "<div>\n",
              "<style scoped>\n",
              "    .dataframe tbody tr th:only-of-type {\n",
              "        vertical-align: middle;\n",
              "    }\n",
              "\n",
              "    .dataframe tbody tr th {\n",
              "        vertical-align: top;\n",
              "    }\n",
              "\n",
              "    .dataframe thead th {\n",
              "        text-align: right;\n",
              "    }\n",
              "</style>\n",
              "<table border=\"1\" class=\"dataframe\">\n",
              "  <thead>\n",
              "    <tr style=\"text-align: right;\">\n",
              "      <th></th>\n",
              "      <th>5</th>\n",
              "      <th>labels</th>\n",
              "    </tr>\n",
              "  </thead>\n",
              "  <tbody>\n",
              "    <tr>\n",
              "      <th>995</th>\n",
              "      <td>just got off work  exhausted worked real hard ...</td>\n",
              "      <td>4</td>\n",
              "    </tr>\n",
              "    <tr>\n",
              "      <th>996</th>\n",
              "      <td>glad  doing well</td>\n",
              "      <td>4</td>\n",
              "    </tr>\n",
              "    <tr>\n",
              "      <th>997</th>\n",
              "      <td>This week just seems  get longer and longer  t...</td>\n",
              "      <td>0</td>\n",
              "    </tr>\n",
              "    <tr>\n",
              "      <th>998</th>\n",
              "      <td>seriously needs  finish these job applications</td>\n",
              "      <td>0</td>\n",
              "    </tr>\n",
              "    <tr>\n",
              "      <th>999</th>\n",
              "      <td>happy birthday sir</td>\n",
              "      <td>4</td>\n",
              "    </tr>\n",
              "  </tbody>\n",
              "</table>\n",
              "</div>"
            ],
            "text/plain": [
              "                                                     5  labels\n",
              "995  just got off work  exhausted worked real hard ...       4\n",
              "996                                  glad  doing well        4\n",
              "997  This week just seems  get longer and longer  t...       0\n",
              "998    seriously needs  finish these job applications        0\n",
              "999                                happy birthday sir        4"
            ]
          },
          "metadata": {
            "tags": []
          },
          "execution_count": 89
        }
      ]
    },
    {
      "cell_type": "code",
      "metadata": {
        "id": "vSBfoQWynoq9",
        "outputId": "bfe0b31a-d3e1-4d1a-9bd0-315efe84e508",
        "colab": {
          "base_uri": "https://localhost:8080/"
        }
      },
      "source": [
        "# Didn't work in Colab, but seemed to work on local machine\n",
        "# from nltk.corpus import stopwords\n",
        "# stopwords.words('english')\n",
        "\n",
        "import nltk\n",
        "nltk.download('stopwords')\n",
        "type(stopwords.words('english'))"
      ],
      "execution_count": 106,
      "outputs": [
        {
          "output_type": "stream",
          "text": [
            "[nltk_data] Downloading package stopwords to /root/nltk_data...\n",
            "[nltk_data]   Package stopwords is already up-to-date!\n"
          ],
          "name": "stdout"
        },
        {
          "output_type": "execute_result",
          "data": {
            "text/plain": [
              "list"
            ]
          },
          "metadata": {
            "tags": []
          },
          "execution_count": 106
        }
      ]
    },
    {
      "cell_type": "code",
      "metadata": {
        "id": "pi34vQAi6QAk",
        "outputId": "ced6ce88-f46e-4619-d853-adc3e2b40a08",
        "colab": {
          "base_uri": "https://localhost:8080/",
          "height": 343
        }
      },
      "source": [
        "pip install --upgrade scikit-learn"
      ],
      "execution_count": 133,
      "outputs": [
        {
          "output_type": "stream",
          "text": [
            "Collecting scikit-learn\n",
            "\u001b[?25l  Downloading https://files.pythonhosted.org/packages/5c/a1/273def87037a7fb010512bbc5901c31cfddfca8080bc63b42b26e3cc55b3/scikit_learn-0.23.2-cp36-cp36m-manylinux1_x86_64.whl (6.8MB)\n",
            "\u001b[K     |████████████████████████████████| 6.8MB 2.5MB/s \n",
            "\u001b[?25hRequirement already satisfied, skipping upgrade: numpy>=1.13.3 in /usr/local/lib/python3.6/dist-packages (from scikit-learn) (1.18.5)\n",
            "Requirement already satisfied, skipping upgrade: joblib>=0.11 in /usr/local/lib/python3.6/dist-packages (from scikit-learn) (0.17.0)\n",
            "Requirement already satisfied, skipping upgrade: scipy>=0.19.1 in /usr/local/lib/python3.6/dist-packages (from scikit-learn) (1.4.1)\n",
            "Collecting threadpoolctl>=2.0.0\n",
            "  Downloading https://files.pythonhosted.org/packages/f7/12/ec3f2e203afa394a149911729357aa48affc59c20e2c1c8297a60f33f133/threadpoolctl-2.1.0-py3-none-any.whl\n",
            "Installing collected packages: threadpoolctl, scikit-learn\n",
            "  Found existing installation: scikit-learn 0.22.2.post1\n",
            "    Uninstalling scikit-learn-0.22.2.post1:\n",
            "      Successfully uninstalled scikit-learn-0.22.2.post1\n",
            "Successfully installed scikit-learn-0.23.2 threadpoolctl-2.1.0\n"
          ],
          "name": "stdout"
        },
        {
          "output_type": "display_data",
          "data": {
            "application/vnd.colab-display-data+json": {
              "pip_warning": {
                "packages": [
                  "sklearn"
                ]
              }
            }
          },
          "metadata": {
            "tags": []
          }
        }
      ]
    },
    {
      "cell_type": "code",
      "metadata": {
        "id": "bQhNhyniXSQI"
      },
      "source": [
        "from sklearn.pipeline import Pipeline\n",
        "from sklearn.feature_extraction.text import HashingVectorizer\n",
        "from sklearn.feature_extraction.text import TfidfTransformer\n",
        "from sklearn.naive_bayes import MultinomialNB\n",
        "\n",
        "text_classifier = Pipeline([\n",
        "  ('vectorizer', HashingVectorizer(stop_words=stopwords.words('english'),\n",
        "                                   alternate_sign=False)),\n",
        "  ('tfidf_transformer', TfidfTransformer()),\n",
        "  ('classifier', MultinomialNB()),\n",
        "])"
      ],
      "execution_count": 119,
      "outputs": []
    },
    {
      "cell_type": "code",
      "metadata": {
        "id": "oqmGkVtLyzzr"
      },
      "source": [
        "from sklearn.model_selection import GridSearchCV\n",
        "\n",
        "# part before double underscore needs to be same as classifier name\n",
        "# See https://stackoverflow.com/questions/48271342/invalid-parameter-clf-for-estimator-pipeline-in-sklearn\n",
        "parameters = {      \n",
        "  'classifier__alpha': (1e-2, 1e-3), \n",
        "}\n",
        "\n",
        "grid_search_classifier = GridSearchCV(text_classifier, parameters, cv=2, n_jobs=-2)"
      ],
      "execution_count": 120,
      "outputs": []
    },
    {
      "cell_type": "code",
      "metadata": {
        "id": "xtqjxnrum577",
        "outputId": "02d009e4-6775-4fc2-e462-2e3cd4051e60",
        "colab": {
          "base_uri": "https://localhost:8080/"
        }
      },
      "source": [
        "all_training_tweets_df.iloc[:,1]"
      ],
      "execution_count": 121,
      "outputs": [
        {
          "output_type": "execute_result",
          "data": {
            "text/plain": [
              "0      0\n",
              "1      4\n",
              "2      0\n",
              "3      0\n",
              "4      4\n",
              "      ..\n",
              "995    4\n",
              "996    4\n",
              "997    0\n",
              "998    0\n",
              "999    4\n",
              "Name: labels, Length: 1000, dtype: int64"
            ]
          },
          "metadata": {
            "tags": []
          },
          "execution_count": 121
        }
      ]
    },
    {
      "cell_type": "code",
      "metadata": {
        "id": "gvR4OrY0mnQq",
        "outputId": "f4b806d1-1123-437d-c325-7c412fbe4f57",
        "colab": {
          "base_uri": "https://localhost:8080/"
        }
      },
      "source": [
        "import time\n",
        "\n",
        "training_samples = all_training_tweets_df.iloc[:,0] \n",
        "training_labels = all_training_tweets_df.iloc[:,1]\n",
        "tic = time.perf_counter()\n",
        "grid_search_classifier = grid_search_classifier.fit(training_samples, training_labels)\n",
        "toc = time.perf_counter()\n",
        "print(f\"Took {toc - tic:0.4f} seconds to fit classifer on data\")"
      ],
      "execution_count": 122,
      "outputs": [
        {
          "output_type": "stream",
          "text": [
            "Took 0.9367 seconds to fit classifer on data\n"
          ],
          "name": "stdout"
        }
      ]
    },
    {
      "cell_type": "code",
      "metadata": {
        "id": "pVHdubDaqRKM",
        "outputId": "2196b3e9-ecda-4552-bb64-c6ecbd2f3c68",
        "colab": {
          "base_uri": "https://localhost:8080/"
        }
      },
      "source": [
        "for key in grid_search_classifier.cv_results_:\n",
        "  print(key)"
      ],
      "execution_count": 123,
      "outputs": [
        {
          "output_type": "stream",
          "text": [
            "mean_fit_time\n",
            "std_fit_time\n",
            "mean_score_time\n",
            "std_score_time\n",
            "param_classifier__alpha\n",
            "params\n",
            "split0_test_score\n",
            "split1_test_score\n",
            "mean_test_score\n",
            "std_test_score\n",
            "rank_test_score\n"
          ],
          "name": "stdout"
        }
      ]
    },
    {
      "cell_type": "code",
      "metadata": {
        "id": "HLcxRmWquF8W",
        "outputId": "04d6ac39-d5bf-498e-c517-7f2dd082cfcd",
        "colab": {
          "base_uri": "https://localhost:8080/"
        }
      },
      "source": [
        "print(f\"Best score: {grid_search_classifier.best_score_}\")"
      ],
      "execution_count": 124,
      "outputs": [
        {
          "output_type": "stream",
          "text": [
            "Best score: 0.607\n"
          ],
          "name": "stdout"
        }
      ]
    },
    {
      "cell_type": "code",
      "metadata": {
        "id": "7lc2GOR3uPt0"
      },
      "source": [
        "best_estimator = grid_search_classifier.best_estimator_"
      ],
      "execution_count": 125,
      "outputs": []
    },
    {
      "cell_type": "code",
      "metadata": {
        "id": "FJhS59vRuVZE"
      },
      "source": [
        "import pickle\n",
        "\n",
        "with open('best_test_NB_clf_sentiment_140.pkl', 'wb') as f:\n",
        "  pickle.dump(best_estimator, f)"
      ],
      "execution_count": 126,
      "outputs": []
    },
    {
      "cell_type": "code",
      "metadata": {
        "id": "Snco-p2DzGYV"
      },
      "source": [
        "with open('test_grid_search_NB_sentiment140.pkl', 'wb') as f:\n",
        "  pickle.dump(grid_search_classifier, f)"
      ],
      "execution_count": 129,
      "outputs": []
    }
  ]
}