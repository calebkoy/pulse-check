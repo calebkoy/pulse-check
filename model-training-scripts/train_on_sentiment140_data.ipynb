{
  "nbformat": 4,
  "nbformat_minor": 0,
  "metadata": {
    "colab": {
      "name": "process_sentiment140_data.ipynb",
      "provenance": [],
      "collapsed_sections": [],
      "toc_visible": true
    },
    "kernelspec": {
      "name": "python3",
      "display_name": "Python 3"
    }
  },
  "cells": [
    {
      "cell_type": "code",
      "metadata": {
        "id": "hM-Ge6OL77pz",
        "outputId": "743aff8b-83d4-4b3d-9be3-316e6e6f45a2",
        "colab": {
          "base_uri": "https://localhost:8080/"
        }
      },
      "source": [
        "from google.colab import drive\n",
        "drive.mount('/content/drive')"
      ],
      "execution_count": 1,
      "outputs": [
        {
          "output_type": "stream",
          "text": [
            "Mounted at /content/drive\n"
          ],
          "name": "stdout"
        }
      ]
    },
    {
      "cell_type": "code",
      "metadata": {
        "id": "uudCFNU9opux"
      },
      "source": [
        "import pandas as pd"
      ],
      "execution_count": 2,
      "outputs": []
    },
    {
      "cell_type": "code",
      "metadata": {
        "id": "k9yR05wUtsrA"
      },
      "source": [
        "path = \"/content/drive/My Drive/Colab Notebooks/data/training.1600000.processed.noemoticon.csv\""
      ],
      "execution_count": 8,
      "outputs": []
    },
    {
      "cell_type": "code",
      "metadata": {
        "id": "la3xyIav8je1"
      },
      "source": [
        "entire_sentiment140_df = pd.read_csv(path, header=None, encoding=\"latin\")"
      ],
      "execution_count": 10,
      "outputs": []
    },
    {
      "cell_type": "code",
      "metadata": {
        "id": "cvbRHLRIOEUI"
      },
      "source": [
        "import re\n",
        "\n",
        "def remove_urls(tweet):\n",
        "  return re.sub(r'www\\.\\S+|https?://\\S+', '', tweet)\n",
        "\n",
        "def remove_html_character_entities(tweet):\n",
        "  return re.sub(r'&[a-zA-Z]+;', '', tweet)\n",
        "\n",
        "def remove_at_mentions(tweet):\n",
        "  return re.sub(r'@\\S+', '', tweet)\n",
        "\n",
        "def remove_non_alpha_or_space_characters(tweet):        \n",
        "    return re.sub(r'[^a-zA-Z\\s]', '', tweet)\n",
        "\n",
        "def remove_short_words(tweet):\n",
        "  return re.sub(r'\\b\\w{1,2}\\b', '', tweet)\n",
        "\n",
        "def preprocess_tweet(tweet):\n",
        "  tweet = remove_urls(tweet)\n",
        "  tweet = remove_html_character_entities(tweet)\n",
        "  tweet = remove_at_mentions(tweet)\n",
        "  tweet = remove_non_alpha_or_space_characters(tweet)\n",
        "  return remove_short_words(tweet)"
      ],
      "execution_count": 20,
      "outputs": []
    },
    {
      "cell_type": "code",
      "metadata": {
        "id": "-IWSGGzAEIko",
        "outputId": "dc4f291f-0ad9-4359-fc95-2911f1ea3400",
        "colab": {
          "base_uri": "https://localhost:8080/",
          "height": 419
        }
      },
      "source": [
        "entire_sentiment140_df[5] = entire_sentiment140_df[5].map(preprocess_tweet)\n",
        "entire_sentiment140_df"
      ],
      "execution_count": 54,
      "outputs": [
        {
          "output_type": "execute_result",
          "data": {
            "text/html": [
              "<div>\n",
              "<style scoped>\n",
              "    .dataframe tbody tr th:only-of-type {\n",
              "        vertical-align: middle;\n",
              "    }\n",
              "\n",
              "    .dataframe tbody tr th {\n",
              "        vertical-align: top;\n",
              "    }\n",
              "\n",
              "    .dataframe thead th {\n",
              "        text-align: right;\n",
              "    }\n",
              "</style>\n",
              "<table border=\"1\" class=\"dataframe\">\n",
              "  <thead>\n",
              "    <tr style=\"text-align: right;\">\n",
              "      <th></th>\n",
              "      <th>0</th>\n",
              "      <th>1</th>\n",
              "      <th>2</th>\n",
              "      <th>3</th>\n",
              "      <th>4</th>\n",
              "      <th>5</th>\n",
              "    </tr>\n",
              "  </thead>\n",
              "  <tbody>\n",
              "    <tr>\n",
              "      <th>0</th>\n",
              "      <td>0</td>\n",
              "      <td>1467810369</td>\n",
              "      <td>Mon Apr 06 22:19:45 PDT 2009</td>\n",
              "      <td>NO_QUERY</td>\n",
              "      <td>_TheSpecialOne_</td>\n",
              "      <td>Awww thats  bummer  You shoulda got David C...</td>\n",
              "    </tr>\n",
              "    <tr>\n",
              "      <th>1</th>\n",
              "      <td>0</td>\n",
              "      <td>1467810672</td>\n",
              "      <td>Mon Apr 06 22:19:49 PDT 2009</td>\n",
              "      <td>NO_QUERY</td>\n",
              "      <td>scotthamilton</td>\n",
              "      <td>upset that  cant update his Facebook  texting...</td>\n",
              "    </tr>\n",
              "    <tr>\n",
              "      <th>2</th>\n",
              "      <td>0</td>\n",
              "      <td>1467810917</td>\n",
              "      <td>Mon Apr 06 22:19:53 PDT 2009</td>\n",
              "      <td>NO_QUERY</td>\n",
              "      <td>mattycus</td>\n",
              "      <td>dived many times for the ball Managed  save ...</td>\n",
              "    </tr>\n",
              "    <tr>\n",
              "      <th>3</th>\n",
              "      <td>0</td>\n",
              "      <td>1467811184</td>\n",
              "      <td>Mon Apr 06 22:19:57 PDT 2009</td>\n",
              "      <td>NO_QUERY</td>\n",
              "      <td>ElleCTF</td>\n",
              "      <td>whole body feels itchy and like its  fire</td>\n",
              "    </tr>\n",
              "    <tr>\n",
              "      <th>4</th>\n",
              "      <td>0</td>\n",
              "      <td>1467811193</td>\n",
              "      <td>Mon Apr 06 22:19:57 PDT 2009</td>\n",
              "      <td>NO_QUERY</td>\n",
              "      <td>Karoli</td>\n",
              "      <td>its not behaving  all  mad why   here becaus...</td>\n",
              "    </tr>\n",
              "    <tr>\n",
              "      <th>...</th>\n",
              "      <td>...</td>\n",
              "      <td>...</td>\n",
              "      <td>...</td>\n",
              "      <td>...</td>\n",
              "      <td>...</td>\n",
              "      <td>...</td>\n",
              "    </tr>\n",
              "    <tr>\n",
              "      <th>1599995</th>\n",
              "      <td>4</td>\n",
              "      <td>2193601966</td>\n",
              "      <td>Tue Jun 16 08:40:49 PDT 2009</td>\n",
              "      <td>NO_QUERY</td>\n",
              "      <td>AmandaMarie1028</td>\n",
              "      <td>Just woke  Having  school  the best feeling ever</td>\n",
              "    </tr>\n",
              "    <tr>\n",
              "      <th>1599996</th>\n",
              "      <td>4</td>\n",
              "      <td>2193601969</td>\n",
              "      <td>Tue Jun 16 08:40:49 PDT 2009</td>\n",
              "      <td>NO_QUERY</td>\n",
              "      <td>TheWDBoards</td>\n",
              "      <td>TheWDBcom  Very cool  hear old Walt interviews</td>\n",
              "    </tr>\n",
              "    <tr>\n",
              "      <th>1599997</th>\n",
              "      <td>4</td>\n",
              "      <td>2193601991</td>\n",
              "      <td>Tue Jun 16 08:40:49 PDT 2009</td>\n",
              "      <td>NO_QUERY</td>\n",
              "      <td>bpbabe</td>\n",
              "      <td>Are you ready for your MoJo Makeover Ask  for ...</td>\n",
              "    </tr>\n",
              "    <tr>\n",
              "      <th>1599998</th>\n",
              "      <td>4</td>\n",
              "      <td>2193602064</td>\n",
              "      <td>Tue Jun 16 08:40:49 PDT 2009</td>\n",
              "      <td>NO_QUERY</td>\n",
              "      <td>tinydiamondz</td>\n",
              "      <td>Happy  Birthday   boo  alll time Tupac Amaru S...</td>\n",
              "    </tr>\n",
              "    <tr>\n",
              "      <th>1599999</th>\n",
              "      <td>4</td>\n",
              "      <td>2193602129</td>\n",
              "      <td>Tue Jun 16 08:40:50 PDT 2009</td>\n",
              "      <td>NO_QUERY</td>\n",
              "      <td>RyanTrevMorris</td>\n",
              "      <td>happy charitytuesday</td>\n",
              "    </tr>\n",
              "  </tbody>\n",
              "</table>\n",
              "<p>1600000 rows × 6 columns</p>\n",
              "</div>"
            ],
            "text/plain": [
              "         0  ...                                                  5\n",
              "0        0  ...     Awww thats  bummer  You shoulda got David C...\n",
              "1        0  ...   upset that  cant update his Facebook  texting...\n",
              "2        0  ...    dived many times for the ball Managed  save ...\n",
              "3        0  ...         whole body feels itchy and like its  fire \n",
              "4        0  ...    its not behaving  all  mad why   here becaus...\n",
              "...     ..  ...                                                ...\n",
              "1599995  4  ...  Just woke  Having  school  the best feeling ever \n",
              "1599996  4  ...  TheWDBcom  Very cool  hear old Walt interviews   \n",
              "1599997  4  ...  Are you ready for your MoJo Makeover Ask  for ...\n",
              "1599998  4  ...  Happy  Birthday   boo  alll time Tupac Amaru S...\n",
              "1599999  4  ...                           happy charitytuesday    \n",
              "\n",
              "[1600000 rows x 6 columns]"
            ]
          },
          "metadata": {
            "tags": []
          },
          "execution_count": 54
        }
      ]
    },
    {
      "cell_type": "code",
      "metadata": {
        "id": "pi34vQAi6QAk",
        "outputId": "3e38f485-cca0-4b1a-c141-1c7a073361db",
        "colab": {
          "base_uri": "https://localhost:8080/"
        }
      },
      "source": [
        "pip install --upgrade scikit-learn"
      ],
      "execution_count": 33,
      "outputs": [
        {
          "output_type": "stream",
          "text": [
            "Collecting scikit-learn\n",
            "\u001b[?25l  Downloading https://files.pythonhosted.org/packages/5c/a1/273def87037a7fb010512bbc5901c31cfddfca8080bc63b42b26e3cc55b3/scikit_learn-0.23.2-cp36-cp36m-manylinux1_x86_64.whl (6.8MB)\n",
            "\u001b[K     |████████████████████████████████| 6.8MB 2.7MB/s \n",
            "\u001b[?25hRequirement already satisfied, skipping upgrade: scipy>=0.19.1 in /usr/local/lib/python3.6/dist-packages (from scikit-learn) (1.4.1)\n",
            "Requirement already satisfied, skipping upgrade: numpy>=1.13.3 in /usr/local/lib/python3.6/dist-packages (from scikit-learn) (1.18.5)\n",
            "Requirement already satisfied, skipping upgrade: joblib>=0.11 in /usr/local/lib/python3.6/dist-packages (from scikit-learn) (0.17.0)\n",
            "Collecting threadpoolctl>=2.0.0\n",
            "  Downloading https://files.pythonhosted.org/packages/f7/12/ec3f2e203afa394a149911729357aa48affc59c20e2c1c8297a60f33f133/threadpoolctl-2.1.0-py3-none-any.whl\n",
            "Installing collected packages: threadpoolctl, scikit-learn\n",
            "  Found existing installation: scikit-learn 0.22.2.post1\n",
            "    Uninstalling scikit-learn-0.22.2.post1:\n",
            "      Successfully uninstalled scikit-learn-0.22.2.post1\n",
            "Successfully installed scikit-learn-0.23.2 threadpoolctl-2.1.0\n"
          ],
          "name": "stdout"
        }
      ]
    },
    {
      "cell_type": "code",
      "metadata": {
        "id": "Ait9I4FokORK",
        "outputId": "cef3089d-bfe3-4308-a6f8-4be2c22a9c65",
        "colab": {
          "base_uri": "https://localhost:8080/",
          "height": 504
        }
      },
      "source": [
        "from sklearn.utils import shuffle\n",
        "\n",
        "entire_sentiment140_df = shuffle(entire_sentiment140_df)\n",
        "entire_sentiment140_df.reset_index(inplace=True, drop=True)\n",
        "entire_sentiment140_df"
      ],
      "execution_count": 62,
      "outputs": [
        {
          "output_type": "execute_result",
          "data": {
            "text/html": [
              "<div>\n",
              "<style scoped>\n",
              "    .dataframe tbody tr th:only-of-type {\n",
              "        vertical-align: middle;\n",
              "    }\n",
              "\n",
              "    .dataframe tbody tr th {\n",
              "        vertical-align: top;\n",
              "    }\n",
              "\n",
              "    .dataframe thead th {\n",
              "        text-align: right;\n",
              "    }\n",
              "</style>\n",
              "<table border=\"1\" class=\"dataframe\">\n",
              "  <thead>\n",
              "    <tr style=\"text-align: right;\">\n",
              "      <th></th>\n",
              "      <th>0</th>\n",
              "      <th>1</th>\n",
              "      <th>2</th>\n",
              "      <th>3</th>\n",
              "      <th>4</th>\n",
              "      <th>5</th>\n",
              "    </tr>\n",
              "  </thead>\n",
              "  <tbody>\n",
              "    <tr>\n",
              "      <th>0</th>\n",
              "      <td>4</td>\n",
              "      <td>1957039268</td>\n",
              "      <td>Thu May 28 23:20:55 PDT 2009</td>\n",
              "      <td>NO_QUERY</td>\n",
              "      <td>vallieclb</td>\n",
              "      <td>Sorry  hear that you didnt get  but congrats ...</td>\n",
              "    </tr>\n",
              "    <tr>\n",
              "      <th>1</th>\n",
              "      <td>0</td>\n",
              "      <td>2064649351</td>\n",
              "      <td>Sun Jun 07 06:49:52 PDT 2009</td>\n",
              "      <td>NO_QUERY</td>\n",
              "      <td>joa_19</td>\n",
              "      <td>Working again</td>\n",
              "    </tr>\n",
              "    <tr>\n",
              "      <th>2</th>\n",
              "      <td>4</td>\n",
              "      <td>2001778671</td>\n",
              "      <td>Tue Jun 02 02:02:33 PDT 2009</td>\n",
              "      <td>NO_QUERY</td>\n",
              "      <td>bill_archie</td>\n",
              "      <td>dont have Haagen Dazs heremom said too expen...</td>\n",
              "    </tr>\n",
              "    <tr>\n",
              "      <th>3</th>\n",
              "      <td>0</td>\n",
              "      <td>2241704001</td>\n",
              "      <td>Fri Jun 19 11:16:32 PDT 2009</td>\n",
              "      <td>NO_QUERY</td>\n",
              "      <td>xlossforwordsx</td>\n",
              "      <td>Everyone has iphones wtf All  keep seein  post...</td>\n",
              "    </tr>\n",
              "    <tr>\n",
              "      <th>4</th>\n",
              "      <td>4</td>\n",
              "      <td>1822828054</td>\n",
              "      <td>Sat May 16 20:28:54 PDT 2009</td>\n",
              "      <td>NO_QUERY</td>\n",
              "      <td>elysiabrooker</td>\n",
              "      <td>Well have  talk more about   Vegas  love  hea...</td>\n",
              "    </tr>\n",
              "    <tr>\n",
              "      <th>...</th>\n",
              "      <td>...</td>\n",
              "      <td>...</td>\n",
              "      <td>...</td>\n",
              "      <td>...</td>\n",
              "      <td>...</td>\n",
              "      <td>...</td>\n",
              "    </tr>\n",
              "    <tr>\n",
              "      <th>1599995</th>\n",
              "      <td>4</td>\n",
              "      <td>2014369825</td>\n",
              "      <td>Wed Jun 03 01:18:12 PDT 2009</td>\n",
              "      <td>NO_QUERY</td>\n",
              "      <td>funkymonk1</td>\n",
              "      <td>you should  watching weeds much more entertai...</td>\n",
              "    </tr>\n",
              "    <tr>\n",
              "      <th>1599996</th>\n",
              "      <td>0</td>\n",
              "      <td>1753884456</td>\n",
              "      <td>Sun May 10 03:57:17 PDT 2009</td>\n",
              "      <td>NO_QUERY</td>\n",
              "      <td>SamanthaHopeB</td>\n",
              "      <td>crap finals have actually turned  nocturnalor ...</td>\n",
              "    </tr>\n",
              "    <tr>\n",
              "      <th>1599997</th>\n",
              "      <td>0</td>\n",
              "      <td>2013640561</td>\n",
              "      <td>Tue Jun 02 23:10:59 PDT 2009</td>\n",
              "      <td>NO_QUERY</td>\n",
              "      <td>radiominnie</td>\n",
              "      <td>want one too</td>\n",
              "    </tr>\n",
              "    <tr>\n",
              "      <th>1599998</th>\n",
              "      <td>0</td>\n",
              "      <td>2052727083</td>\n",
              "      <td>Sat Jun 06 01:47:17 PDT 2009</td>\n",
              "      <td>NO_QUERY</td>\n",
              "      <td>Jodz101</td>\n",
              "      <td>going  watch some supernatural there  nothing ...</td>\n",
              "    </tr>\n",
              "    <tr>\n",
              "      <th>1599999</th>\n",
              "      <td>0</td>\n",
              "      <td>2188904318</td>\n",
              "      <td>Mon Jun 15 22:48:40 PDT 2009</td>\n",
              "      <td>NO_QUERY</td>\n",
              "      <td>ElectricBabe</td>\n",
              "      <td>Crikey  really  sick Bugger  feel like crap Wh...</td>\n",
              "    </tr>\n",
              "  </tbody>\n",
              "</table>\n",
              "<p>1600000 rows × 6 columns</p>\n",
              "</div>"
            ],
            "text/plain": [
              "         0  ...                                                  5\n",
              "0        4  ...   Sorry  hear that you didnt get  but congrats ...\n",
              "1        0  ...                                     Working again \n",
              "2        4  ...    dont have Haagen Dazs heremom said too expen...\n",
              "3        0  ...  Everyone has iphones wtf All  keep seein  post...\n",
              "4        4  ...   Well have  talk more about   Vegas  love  hea...\n",
              "...     ..  ...                                                ...\n",
              "1599995  4  ...   you should  watching weeds much more entertai...\n",
              "1599996  0  ...  crap finals have actually turned  nocturnalor ...\n",
              "1599997  0  ...                                      want one too \n",
              "1599998  0  ...  going  watch some supernatural there  nothing ...\n",
              "1599999  0  ...  Crikey  really  sick Bugger  feel like crap Wh...\n",
              "\n",
              "[1600000 rows x 6 columns]"
            ]
          },
          "metadata": {
            "tags": []
          },
          "execution_count": 62
        }
      ]
    },
    {
      "cell_type": "code",
      "metadata": {
        "id": "vSBfoQWynoq9"
      },
      "source": [
        "from nltk.corpus import stopwords"
      ],
      "execution_count": 63,
      "outputs": []
    },
    {
      "cell_type": "code",
      "metadata": {
        "id": "bQhNhyniXSQI"
      },
      "source": [
        "from sklearn.pipeline import Pipeline\n",
        "from sklearn.feature_extraction.text import HashingVectorizer\n",
        "from sklearn.feature_extraction.text import TfidfTransformer\n",
        "from sklearn.naive_bayes import MultinomialNB\n",
        "\n",
        "text_classifier = Pipeline([\n",
        "  ('vectorizer', HashingVectorizer(stop_words=stopwords.words('english'),\n",
        "                                   alternate_sign=False)),\n",
        "  ('tfidf_transformer', TfidfTransformer()),\n",
        "  ('classifier', MultinomialNB()),\n",
        "])"
      ],
      "execution_count": 64,
      "outputs": []
    },
    {
      "cell_type": "code",
      "metadata": {
        "id": "oqmGkVtLyzzr"
      },
      "source": [
        "from sklearn.model_selection import GridSearchCV\n",
        "\n",
        "parameters = {      \n",
        "  'classifier__alpha': (1e-2, 1e-3), \n",
        "}\n",
        "\n",
        "grid_search_classifier = GridSearchCV(text_classifier, parameters, cv=5, n_jobs=-2)"
      ],
      "execution_count": 65,
      "outputs": []
    },
    {
      "cell_type": "code",
      "metadata": {
        "id": "gvR4OrY0mnQq",
        "outputId": "25b43ecd-c2ac-4a8e-a86e-f1de818b288e",
        "colab": {
          "base_uri": "https://localhost:8080/"
        }
      },
      "source": [
        "import time\n",
        "\n",
        "training_samples = entire_sentiment140_df.iloc[:,-1] \n",
        "training_labels = entire_sentiment140_df.iloc[:,0]\n",
        "tic = time.perf_counter()\n",
        "grid_search_classifier = grid_search_classifier.fit(training_samples, training_labels)\n",
        "toc = time.perf_counter()\n",
        "print(f\"Took {toc - tic:0.4f} seconds to fit classifer on data\")"
      ],
      "execution_count": 66,
      "outputs": [
        {
          "output_type": "stream",
          "text": [
            "Took 174.2224 seconds to fit classifer on data\n"
          ],
          "name": "stdout"
        }
      ]
    },
    {
      "cell_type": "code",
      "metadata": {
        "id": "HLcxRmWquF8W",
        "outputId": "21f4c421-f6af-4de2-b006-cc75eb807c67",
        "colab": {
          "base_uri": "https://localhost:8080/"
        }
      },
      "source": [
        "print(f\"Best score: {grid_search_classifier.best_score_}\")"
      ],
      "execution_count": 67,
      "outputs": [
        {
          "output_type": "stream",
          "text": [
            "Best score: 0.7454725000000001\n"
          ],
          "name": "stdout"
        }
      ]
    },
    {
      "cell_type": "code",
      "metadata": {
        "id": "Snco-p2DzGYV"
      },
      "source": [
        "import pickle\n",
        "with open('test_grid_search_NB_clf_sentiment140.pkl', 'wb') as f:\n",
        "  pickle.dump(grid_search_classifier, f)"
      ],
      "execution_count": 68,
      "outputs": []
    },
    {
      "cell_type": "code",
      "metadata": {
        "id": "QxOLDQngA4VA"
      },
      "source": [
        ""
      ],
      "execution_count": null,
      "outputs": []
    }
  ]
}